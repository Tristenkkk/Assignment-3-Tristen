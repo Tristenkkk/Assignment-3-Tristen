{
 "cells": [
  {
   "cell_type": "code",
   "execution_count": 295,
   "id": "28799a07-af91-44d1-8784-47d0ad2250ce",
   "metadata": {},
   "outputs": [],
   "source": [
    "# Import required libraries\n",
    "import pandas as pd\n",
    "import math\n",
    "import networkx as nx"
   ]
  },
  {
   "cell_type": "code",
   "execution_count": 297,
   "id": "9734aca9-cad3-4c6e-85e0-a58b0d6b3ef4",
   "metadata": {},
   "outputs": [
    {
     "name": "stdout",
     "output_type": "stream",
     "text": [
      "Data Preview:\n",
      "       company_name  cikcode              director_name  software_background  \\\n",
      "0  1ST SOURCE CORP    34782           ALLISON N. EGIDI                False   \n",
      "1  1ST SOURCE CORP    34782            ANDREA G. SHORT                False   \n",
      "2  1ST SOURCE CORP    34782  CHRISTOPHER J. MURPHY III                 True   \n",
      "3  1ST SOURCE CORP    34782   CHRISTOPHER J. MURPHY IV                False   \n",
      "4  1ST SOURCE CORP    34782            CRAIG A. KAPSON                False   \n",
      "\n",
      "   start_date    end_date  \n",
      "0  2011-03-14  2017-03-14  \n",
      "1  2023-03-10  2025-03-14  \n",
      "2  2008-03-14  2025-03-14  \n",
      "3  2011-03-14  2025-03-14  \n",
      "4  2008-03-14  2017-03-14  \n",
      "Data Summary:\n",
      "             cikcode\n",
      "count  1.334700e+04\n",
      "mean   2.301028e+05\n",
      "std    2.814342e+05\n",
      "min    1.750000e+03\n",
      "25%    3.931100e+04\n",
      "50%    8.596100e+04\n",
      "75%    3.200170e+05\n",
      "max    1.059386e+06\n"
     ]
    }
   ],
   "source": [
    "df = pandas.read_csv('company_directorships.csv')\n",
    "# Convert 't' to True, others to False in 'software_background' column\n",
    "df['software_background']= df['software_background'].map(lambda x: x.strip().lower() == 't')\n",
    "\n",
    "print(\"Data Preview:\\n\", df.head())\n",
    "print(\"Data Summary:\\n\", df.describe())"
   ]
  },
  {
   "cell_type": "code",
   "execution_count": 299,
   "id": "51e3d1be-aa81-443f-9813-04cca07fd164",
   "metadata": {},
   "outputs": [],
   "source": [
    "def clean_gender (value):\n",
    "    if isinstance(value,str):\n",
    "        value = value.strip().lower()\n",
    "        if value in ['m','male']:\n",
    "            return 'Male'\n",
    "        else:\n",
    "            return 'Female'\n",
    "    return None"
   ]
  },
  {
   "cell_type": "code",
   "execution_count": 301,
   "id": "85988c0b-40e6-48fc-95df-e39f0432adb4",
   "metadata": {},
   "outputs": [
    {
     "data": {
      "text/html": [
       "<div>\n",
       "<style scoped>\n",
       "    .dataframe tbody tr th:only-of-type {\n",
       "        vertical-align: middle;\n",
       "    }\n",
       "\n",
       "    .dataframe tbody tr th {\n",
       "        vertical-align: top;\n",
       "    }\n",
       "\n",
       "    .dataframe thead th {\n",
       "        text-align: right;\n",
       "    }\n",
       "</style>\n",
       "<table border=\"1\" class=\"dataframe\">\n",
       "  <thead>\n",
       "    <tr style=\"text-align: right;\">\n",
       "      <th></th>\n",
       "      <th>age</th>\n",
       "      <th>compensation</th>\n",
       "      <th>gender</th>\n",
       "      <th>log_compensation</th>\n",
       "    </tr>\n",
       "    <tr>\n",
       "      <th>NAME</th>\n",
       "      <th></th>\n",
       "      <th></th>\n",
       "      <th></th>\n",
       "      <th></th>\n",
       "    </tr>\n",
       "  </thead>\n",
       "  <tbody>\n",
       "    <tr>\n",
       "      <th>A. CATHERINE NGO</th>\n",
       "      <td>64</td>\n",
       "      <td>1006154</td>\n",
       "      <td>female</td>\n",
       "      <td>6.002665</td>\n",
       "    </tr>\n",
       "    <tr>\n",
       "      <th>A. EUGENE WASHINGTON</th>\n",
       "      <td>70</td>\n",
       "      <td>324871</td>\n",
       "      <td>male</td>\n",
       "      <td>5.511712</td>\n",
       "    </tr>\n",
       "    <tr>\n",
       "      <th>A. F. PETROCELLI</th>\n",
       "      <td>80</td>\n",
       "      <td>47000</td>\n",
       "      <td>male</td>\n",
       "      <td>4.672107</td>\n",
       "    </tr>\n",
       "    <tr>\n",
       "      <th>A. FARAZ ABBASI</th>\n",
       "      <td>52</td>\n",
       "      <td>113631</td>\n",
       "      <td>male</td>\n",
       "      <td>5.055501</td>\n",
       "    </tr>\n",
       "    <tr>\n",
       "      <th>A. LARRY CHAPMAN</th>\n",
       "      <td>78</td>\n",
       "      <td>259500</td>\n",
       "      <td>male</td>\n",
       "      <td>5.414139</td>\n",
       "    </tr>\n",
       "    <tr>\n",
       "      <th>...</th>\n",
       "      <td>...</td>\n",
       "      <td>...</td>\n",
       "      <td>...</td>\n",
       "      <td>...</td>\n",
       "    </tr>\n",
       "    <tr>\n",
       "      <th>ZACKARY IRANI</th>\n",
       "      <td>58</td>\n",
       "      <td>360103</td>\n",
       "      <td>male</td>\n",
       "      <td>5.556428</td>\n",
       "    </tr>\n",
       "    <tr>\n",
       "      <th>ZAHID AFZAL</th>\n",
       "      <td>62</td>\n",
       "      <td>0</td>\n",
       "      <td>male</td>\n",
       "      <td>0.000000</td>\n",
       "    </tr>\n",
       "    <tr>\n",
       "      <th>ZENA SRIVATSA ARNOLD</th>\n",
       "      <td>46</td>\n",
       "      <td>189960</td>\n",
       "      <td>female</td>\n",
       "      <td>5.278664</td>\n",
       "    </tr>\n",
       "    <tr>\n",
       "      <th>ZENON S. NIE</th>\n",
       "      <td>73</td>\n",
       "      <td>202703</td>\n",
       "      <td>male</td>\n",
       "      <td>5.306862</td>\n",
       "    </tr>\n",
       "    <tr>\n",
       "      <th>ZHONGLI LIU</th>\n",
       "      <td>64</td>\n",
       "      <td>7043</td>\n",
       "      <td>male</td>\n",
       "      <td>3.847819</td>\n",
       "    </tr>\n",
       "  </tbody>\n",
       "</table>\n",
       "<p>5421 rows × 4 columns</p>\n",
       "</div>"
      ],
      "text/plain": [
       "                      age  compensation  gender  log_compensation\n",
       "NAME                                                             \n",
       "A. CATHERINE NGO       64       1006154  female          6.002665\n",
       "A. EUGENE WASHINGTON   70        324871    male          5.511712\n",
       "A. F. PETROCELLI       80         47000    male          4.672107\n",
       "A. FARAZ ABBASI        52        113631    male          5.055501\n",
       "A. LARRY CHAPMAN       78        259500    male          5.414139\n",
       "...                   ...           ...     ...               ...\n",
       "ZACKARY IRANI          58        360103    male          5.556428\n",
       "ZAHID AFZAL            62             0    male          0.000000\n",
       "ZENA SRIVATSA ARNOLD   46        189960  female          5.278664\n",
       "ZENON S. NIE           73        202703    male          5.306862\n",
       "ZHONGLI LIU            64          7043    male          3.847819\n",
       "\n",
       "[5421 rows x 4 columns]"
      ]
     },
     "execution_count": 301,
     "metadata": {},
     "output_type": "execute_result"
    }
   ],
   "source": [
    "compensation_and_demographics_raw = pandas.read_csv('director-details.csv')\n",
    "compensation_and_demographics_raw['NAME'] = compensation_and_demographics_raw.name.str.upper()\n",
    "\n",
    "def most_common(series):\n",
    "    mode_values = series.mode()\n",
    "    if len(mode_values) > 0:\n",
    "        return mode_values[0]\n",
    "    return None\n",
    "\n",
    "# Groud data by director name for age, compensation, and gender\n",
    "grouped = compensation_and_demographics_raw.groupby('NAME')\n",
    "compensation_and_demographics = pandas.DataFrame({\n",
    "    'age': grouped.age.max(),\n",
    "    'compensation': grouped.compensation.sum(),\n",
    "    'gender': grouped.gender.agg(most_common)\n",
    "})\n",
    "\n",
    "compensation_and_demographics['log_compensation'] = (1 + compensation_and_demographics.compensation).map(math.log10)\n",
    "compensation_and_demographics"
   ]
  },
  {
   "cell_type": "code",
   "execution_count": 302,
   "id": "f29c9d82-a402-491a-9cd9-0a3a5db8983e",
   "metadata": {},
   "outputs": [
    {
     "data": {
      "text/plain": [
       "gender\n",
       "male       3850\n",
       "female     1550\n",
       "None         19\n",
       "unknown       2\n",
       "Name: count, dtype: int64"
      ]
     },
     "execution_count": 302,
     "metadata": {},
     "output_type": "execute_result"
    }
   ],
   "source": [
    "compensation_and_demographics.gender.value_counts(dropna=False)"
   ]
  },
  {
   "cell_type": "code",
   "execution_count": 305,
   "id": "1d74aaa8-573a-4693-9bb3-7a9ef40299cf",
   "metadata": {},
   "outputs": [
    {
     "data": {
      "text/plain": [
       "director_name\n",
       "A CHARLENE SULLIVAN, PH.D.     1\n",
       "MICHAEL L. KUTA                1\n",
       "MICHAEL L. LARUSSO             1\n",
       "MICHAEL L. MILLER              1\n",
       "MICHAEL L. OWENS               1\n",
       "                              ..\n",
       "MARTIN L. FLANAGAN            13\n",
       "ANN BARNETT STERN             13\n",
       "TERESA M. RESSEL              13\n",
       "BRUCE L. CROCKETT             13\n",
       "ALBERT R. DOWDEN              14\n",
       "Name: company_name, Length: 11827, dtype: int64"
      ]
     },
     "execution_count": 305,
     "metadata": {},
     "output_type": "execute_result"
    }
   ],
   "source": [
    "directorship_counts = df.groupby('director_name').company_name.nunique().sort_values()\n",
    "directorship_counts"
   ]
  },
  {
   "cell_type": "code",
   "execution_count": 307,
   "id": "44fd1247-353f-401d-be96-67167fcff5f8",
   "metadata": {},
   "outputs": [
    {
     "data": {
      "text/plain": [
       "<Axes: xlabel='company_name'>"
      ]
     },
     "execution_count": 307,
     "metadata": {},
     "output_type": "execute_result"
    },
    {
     "data": {
      "image/png": "[encoded data removed]",
      "text/plain": [
       "<Figure size 640x480 with 1 Axes>"
      ]
     },
     "metadata": {},
     "output_type": "display_data"
    }
   ],
   "source": [
    "directorship_counts.value_counts().sort_index().map(math.log10).plot()"
   ]
  },
  {
   "cell_type": "code",
   "execution_count": 309,
   "id": "b5e3f6e1-b9bf-4ad5-8c17-396bc1ca1cbd",
   "metadata": {},
   "outputs": [],
   "source": [
    "import networkx\n",
    "import networkx.algorithms\n",
    "graph = networkx.Graph()"
   ]
  },
  {
   "cell_type": "code",
   "execution_count": 311,
   "id": "4b18759f-11e7-4097-a5ce-2f31efe74257",
   "metadata": {},
   "outputs": [],
   "source": [
    "people = []\n",
    "companies = []\n",
    "for company_name, director_name in zip(df.company_name, df.director_name):\n",
    "    graph.add_edge(company_name, director_name)\n",
    "    people.append(director_name)\n",
    "    companies.append(company_name)"
   ]
  },
  {
   "cell_type": "code",
   "execution_count": 313,
   "id": "ba07222c-8f1d-44fe-a22e-2b518d37606c",
   "metadata": {},
   "outputs": [],
   "source": [
    "biggest_connected_graph = graph.subgraph(list(networkx.connected_components(graph))[0])"
   ]
  },
  {
   "cell_type": "markdown",
   "id": "0b187e5e-4872-4b89-a21b-bfb303bd7021",
   "metadata": {},
   "source": [
    "***In the context of this director-company network, centrality measures reflect different types of influence and structural roles:\n",
    "\n",
    "Degree centrality indicates directors who are closely connected with many companies, suggesting broad and direct influence.\n",
    "\n",
    "Eigenvector centrality highlights directors who are connected to other well-connected individuals, signaling prestige or elite status within the network.\n",
    "\n",
    "Betweenness centrality reveals directors who act as bridges between different company clusters, identifying them as key gatekeepers or strategic intermediaries."
   ]
  },
  {
   "cell_type": "code",
   "execution_count": 323,
   "id": "b6ac9a66-827b-49bf-83c9-9bcedec73a09",
   "metadata": {},
   "outputs": [
    {
     "name": "stdout",
     "output_type": "stream",
     "text": [
      "CPU times: user 6min 59s, sys: 10.1 s, total: 7min 9s\n",
      "Wall time: 7min 30s\n"
     ]
    }
   ],
   "source": [
    "%%time\n",
    "centrality = pandas.DataFrame({\n",
    "    'eigen': pandas.Series(networkx.eigenvector_centrality(biggest_connected_graph)),\n",
    "    'degree': pandas.Series(networkx.algorithms.degree_centrality(biggest_connected_graph)),\n",
    "})\n",
    "centrality['is_person'] = centrality.index.map(lambda x: x in people)\n",
    "\n",
    "#Centrality calculation\n",
    "betweenness_centrality = nx.betweenness_centrality(graph)\n",
    "\n",
    "for node in graph.nodes():\n",
    "    graph.nodes[node]['betweenness_centrality'] = betweenness_centrality[node]"
   ]
  },
  {
   "cell_type": "code",
   "execution_count": 325,
   "id": "9e374096-f944-45a9-99b1-911fdeadd4c4",
   "metadata": {},
   "outputs": [],
   "source": [
    "people_df = centrality[centrality.is_person].merge(compensation_and_demographics, left_index=True, right_index=True)"
   ]
  },
  {
   "cell_type": "code",
   "execution_count": 327,
   "id": "2ee556f1-50a3-4c7c-a2da-3e6985a9d1a3",
   "metadata": {},
   "outputs": [
    {
     "data": {
      "text/html": [
       "<div>\n",
       "<style scoped>\n",
       "    .dataframe tbody tr th:only-of-type {\n",
       "        vertical-align: middle;\n",
       "    }\n",
       "\n",
       "    .dataframe tbody tr th {\n",
       "        vertical-align: top;\n",
       "    }\n",
       "\n",
       "    .dataframe thead th {\n",
       "        text-align: right;\n",
       "    }\n",
       "</style>\n",
       "<table border=\"1\" class=\"dataframe\">\n",
       "  <thead>\n",
       "    <tr style=\"text-align: right;\">\n",
       "      <th></th>\n",
       "      <th>eigen</th>\n",
       "      <th>degree</th>\n",
       "      <th>is_person</th>\n",
       "      <th>age</th>\n",
       "      <th>compensation</th>\n",
       "      <th>gender</th>\n",
       "      <th>log_compensation</th>\n",
       "    </tr>\n",
       "  </thead>\n",
       "  <tbody>\n",
       "    <tr>\n",
       "      <th>ELIZABETH KRENTZMAN</th>\n",
       "      <td>1.024389e-01</td>\n",
       "      <td>0.001585</td>\n",
       "      <td>True</td>\n",
       "      <td>65</td>\n",
       "      <td>3408245</td>\n",
       "      <td>female</td>\n",
       "      <td>6.532531</td>\n",
       "    </tr>\n",
       "    <tr>\n",
       "      <th>CAROL DECKBAR</th>\n",
       "      <td>1.024389e-01</td>\n",
       "      <td>0.001585</td>\n",
       "      <td>True</td>\n",
       "      <td>62</td>\n",
       "      <td>43263</td>\n",
       "      <td>female</td>\n",
       "      <td>4.636127</td>\n",
       "    </tr>\n",
       "    <tr>\n",
       "      <th>ELI JONES</th>\n",
       "      <td>1.024389e-01</td>\n",
       "      <td>0.001585</td>\n",
       "      <td>True</td>\n",
       "      <td>63</td>\n",
       "      <td>3063255</td>\n",
       "      <td>male</td>\n",
       "      <td>6.486183</td>\n",
       "    </tr>\n",
       "    <tr>\n",
       "      <th>DOUGLAS SHARP</th>\n",
       "      <td>1.024389e-01</td>\n",
       "      <td>0.001585</td>\n",
       "      <td>True</td>\n",
       "      <td>50</td>\n",
       "      <td>0</td>\n",
       "      <td>male</td>\n",
       "      <td>0.000000</td>\n",
       "    </tr>\n",
       "    <tr>\n",
       "      <th>JAMES \"JIM\" LIDDY</th>\n",
       "      <td>1.024389e-01</td>\n",
       "      <td>0.001585</td>\n",
       "      <td>True</td>\n",
       "      <td>65</td>\n",
       "      <td>27531</td>\n",
       "      <td>male</td>\n",
       "      <td>4.439838</td>\n",
       "    </tr>\n",
       "    <tr>\n",
       "      <th>...</th>\n",
       "      <td>...</td>\n",
       "      <td>...</td>\n",
       "      <td>...</td>\n",
       "      <td>...</td>\n",
       "      <td>...</td>\n",
       "      <td>...</td>\n",
       "      <td>...</td>\n",
       "    </tr>\n",
       "    <tr>\n",
       "      <th>JOHN J. GEBBIA</th>\n",
       "      <td>8.400282e-35</td>\n",
       "      <td>0.000122</td>\n",
       "      <td>True</td>\n",
       "      <td>86</td>\n",
       "      <td>120000</td>\n",
       "      <td>male</td>\n",
       "      <td>5.079185</td>\n",
       "    </tr>\n",
       "    <tr>\n",
       "      <th>ANDREW S. BORODACH</th>\n",
       "      <td>8.342633e-35</td>\n",
       "      <td>0.000122</td>\n",
       "      <td>True</td>\n",
       "      <td>56</td>\n",
       "      <td>0</td>\n",
       "      <td>male</td>\n",
       "      <td>0.000000</td>\n",
       "    </tr>\n",
       "    <tr>\n",
       "      <th>LAWRENCE A. KOBRIN</th>\n",
       "      <td>8.342633e-35</td>\n",
       "      <td>0.000122</td>\n",
       "      <td>True</td>\n",
       "      <td>91</td>\n",
       "      <td>30356</td>\n",
       "      <td>male</td>\n",
       "      <td>4.482259</td>\n",
       "    </tr>\n",
       "    <tr>\n",
       "      <th>NANCY J. FLOYD PRUE</th>\n",
       "      <td>8.342633e-35</td>\n",
       "      <td>0.000122</td>\n",
       "      <td>True</td>\n",
       "      <td>70</td>\n",
       "      <td>50356</td>\n",
       "      <td>female</td>\n",
       "      <td>4.702060</td>\n",
       "    </tr>\n",
       "    <tr>\n",
       "      <th>RICHARD P. HOWARD</th>\n",
       "      <td>8.342633e-35</td>\n",
       "      <td>0.000122</td>\n",
       "      <td>True</td>\n",
       "      <td>78</td>\n",
       "      <td>0</td>\n",
       "      <td>male</td>\n",
       "      <td>0.000000</td>\n",
       "    </tr>\n",
       "  </tbody>\n",
       "</table>\n",
       "<p>3742 rows × 7 columns</p>\n",
       "</div>"
      ],
      "text/plain": [
       "                            eigen    degree  is_person  age  compensation  \\\n",
       "ELIZABETH KRENTZMAN  1.024389e-01  0.001585       True   65       3408245   \n",
       "CAROL DECKBAR        1.024389e-01  0.001585       True   62         43263   \n",
       "ELI JONES            1.024389e-01  0.001585       True   63       3063255   \n",
       "DOUGLAS SHARP        1.024389e-01  0.001585       True   50             0   \n",
       "JAMES \"JIM\" LIDDY    1.024389e-01  0.001585       True   65         27531   \n",
       "...                           ...       ...        ...  ...           ...   \n",
       "JOHN J. GEBBIA       8.400282e-35  0.000122       True   86        120000   \n",
       "ANDREW S. BORODACH   8.342633e-35  0.000122       True   56             0   \n",
       "LAWRENCE A. KOBRIN   8.342633e-35  0.000122       True   91         30356   \n",
       "NANCY J. FLOYD PRUE  8.342633e-35  0.000122       True   70         50356   \n",
       "RICHARD P. HOWARD    8.342633e-35  0.000122       True   78             0   \n",
       "\n",
       "                     gender  log_compensation  \n",
       "ELIZABETH KRENTZMAN  female          6.532531  \n",
       "CAROL DECKBAR        female          4.636127  \n",
       "ELI JONES              male          6.486183  \n",
       "DOUGLAS SHARP          male          0.000000  \n",
       "JAMES \"JIM\" LIDDY      male          4.439838  \n",
       "...                     ...               ...  \n",
       "JOHN J. GEBBIA         male          5.079185  \n",
       "ANDREW S. BORODACH     male          0.000000  \n",
       "LAWRENCE A. KOBRIN     male          4.482259  \n",
       "NANCY J. FLOYD PRUE  female          4.702060  \n",
       "RICHARD P. HOWARD      male          0.000000  \n",
       "\n",
       "[3742 rows x 7 columns]"
      ]
     },
     "execution_count": 327,
     "metadata": {},
     "output_type": "execute_result"
    }
   ],
   "source": [
    "people_df.sort_values('eigen', ascending=False)"
   ]
  },
  {
   "cell_type": "code",
   "execution_count": 329,
   "id": "f0937be4-f460-4959-81a5-b7737898d905",
   "metadata": {},
   "outputs": [
    {
     "data": {
      "text/html": [
       "<div>\n",
       "<style scoped>\n",
       "    .dataframe tbody tr th:only-of-type {\n",
       "        vertical-align: middle;\n",
       "    }\n",
       "\n",
       "    .dataframe tbody tr th {\n",
       "        vertical-align: top;\n",
       "    }\n",
       "\n",
       "    .dataframe thead th {\n",
       "        text-align: right;\n",
       "    }\n",
       "</style>\n",
       "<table border=\"1\" class=\"dataframe\">\n",
       "  <thead>\n",
       "    <tr style=\"text-align: right;\">\n",
       "      <th></th>\n",
       "      <th>company_name</th>\n",
       "      <th>cikcode</th>\n",
       "      <th>director_name</th>\n",
       "      <th>software_background</th>\n",
       "      <th>start_date</th>\n",
       "      <th>end_date</th>\n",
       "    </tr>\n",
       "  </thead>\n",
       "  <tbody>\n",
       "    <tr>\n",
       "      <th>6297</th>\n",
       "      <td>Invesco Advantage Municipal Income Trust II</td>\n",
       "      <td>908993</td>\n",
       "      <td>ELIZABETH KRENTZMAN</td>\n",
       "      <td>False</td>\n",
       "      <td>2021-06-22</td>\n",
       "      <td>2024-07-02</td>\n",
       "    </tr>\n",
       "    <tr>\n",
       "      <th>6352</th>\n",
       "      <td>Invesco Bond Fund</td>\n",
       "      <td>5094</td>\n",
       "      <td>ELIZABETH KRENTZMAN</td>\n",
       "      <td>False</td>\n",
       "      <td>2021-06-22</td>\n",
       "      <td>2024-07-02</td>\n",
       "    </tr>\n",
       "    <tr>\n",
       "      <th>6407</th>\n",
       "      <td>Invesco California Value Municipal Income Trust</td>\n",
       "      <td>895531</td>\n",
       "      <td>ELIZABETH KRENTZMAN</td>\n",
       "      <td>False</td>\n",
       "      <td>2021-06-22</td>\n",
       "      <td>2024-07-02</td>\n",
       "    </tr>\n",
       "    <tr>\n",
       "      <th>6462</th>\n",
       "      <td>Invesco High Income Trust II</td>\n",
       "      <td>846671</td>\n",
       "      <td>ELIZABETH KRENTZMAN</td>\n",
       "      <td>False</td>\n",
       "      <td>2021-06-22</td>\n",
       "      <td>2024-07-02</td>\n",
       "    </tr>\n",
       "    <tr>\n",
       "      <th>6512</th>\n",
       "      <td>Invesco Municipal Income Opportunities Trust</td>\n",
       "      <td>835333</td>\n",
       "      <td>ELIZABETH KRENTZMAN</td>\n",
       "      <td>False</td>\n",
       "      <td>2021-06-22</td>\n",
       "      <td>2024-07-02</td>\n",
       "    </tr>\n",
       "    <tr>\n",
       "      <th>6546</th>\n",
       "      <td>Invesco Municipal Opportunity Trust</td>\n",
       "      <td>884152</td>\n",
       "      <td>ELIZABETH KRENTZMAN</td>\n",
       "      <td>False</td>\n",
       "      <td>2021-06-22</td>\n",
       "      <td>2024-07-02</td>\n",
       "    </tr>\n",
       "    <tr>\n",
       "      <th>6601</th>\n",
       "      <td>Invesco Municipal Trust</td>\n",
       "      <td>877463</td>\n",
       "      <td>ELIZABETH KRENTZMAN</td>\n",
       "      <td>False</td>\n",
       "      <td>2021-06-22</td>\n",
       "      <td>2024-07-02</td>\n",
       "    </tr>\n",
       "    <tr>\n",
       "      <th>6656</th>\n",
       "      <td>Invesco Pennsylvania Value Municipal Income Trust</td>\n",
       "      <td>895528</td>\n",
       "      <td>ELIZABETH KRENTZMAN</td>\n",
       "      <td>False</td>\n",
       "      <td>2021-06-22</td>\n",
       "      <td>2024-07-02</td>\n",
       "    </tr>\n",
       "    <tr>\n",
       "      <th>6706</th>\n",
       "      <td>Invesco Quality Municipal Income Trust</td>\n",
       "      <td>885125</td>\n",
       "      <td>ELIZABETH KRENTZMAN</td>\n",
       "      <td>False</td>\n",
       "      <td>2021-06-22</td>\n",
       "      <td>2024-07-02</td>\n",
       "    </tr>\n",
       "    <tr>\n",
       "      <th>6740</th>\n",
       "      <td>Invesco Senior Income Trust</td>\n",
       "      <td>1059386</td>\n",
       "      <td>ELIZABETH KRENTZMAN</td>\n",
       "      <td>False</td>\n",
       "      <td>2021-06-22</td>\n",
       "      <td>2024-07-02</td>\n",
       "    </tr>\n",
       "    <tr>\n",
       "      <th>6793</th>\n",
       "      <td>Invesco Trust for Investment Grade Municipals</td>\n",
       "      <td>880892</td>\n",
       "      <td>ELIZABETH KRENTZMAN</td>\n",
       "      <td>False</td>\n",
       "      <td>2021-06-22</td>\n",
       "      <td>2024-07-02</td>\n",
       "    </tr>\n",
       "    <tr>\n",
       "      <th>6848</th>\n",
       "      <td>Invesco Trust for Investment Grade New York Mu...</td>\n",
       "      <td>883265</td>\n",
       "      <td>ELIZABETH KRENTZMAN</td>\n",
       "      <td>False</td>\n",
       "      <td>2021-06-22</td>\n",
       "      <td>2024-07-02</td>\n",
       "    </tr>\n",
       "    <tr>\n",
       "      <th>6898</th>\n",
       "      <td>Invesco Value Municipal Income Trust</td>\n",
       "      <td>885601</td>\n",
       "      <td>ELIZABETH KRENTZMAN</td>\n",
       "      <td>False</td>\n",
       "      <td>2021-06-22</td>\n",
       "      <td>2024-07-02</td>\n",
       "    </tr>\n",
       "  </tbody>\n",
       "</table>\n",
       "</div>"
      ],
      "text/plain": [
       "                                           company_name  cikcode  \\\n",
       "6297        Invesco Advantage Municipal Income Trust II   908993   \n",
       "6352                                  Invesco Bond Fund     5094   \n",
       "6407    Invesco California Value Municipal Income Trust   895531   \n",
       "6462                       Invesco High Income Trust II   846671   \n",
       "6512       Invesco Municipal Income Opportunities Trust   835333   \n",
       "6546                Invesco Municipal Opportunity Trust   884152   \n",
       "6601                            Invesco Municipal Trust   877463   \n",
       "6656  Invesco Pennsylvania Value Municipal Income Trust   895528   \n",
       "6706             Invesco Quality Municipal Income Trust   885125   \n",
       "6740                        Invesco Senior Income Trust  1059386   \n",
       "6793      Invesco Trust for Investment Grade Municipals   880892   \n",
       "6848  Invesco Trust for Investment Grade New York Mu...   883265   \n",
       "6898               Invesco Value Municipal Income Trust   885601   \n",
       "\n",
       "            director_name  software_background  start_date    end_date  \n",
       "6297  ELIZABETH KRENTZMAN                False  2021-06-22  2024-07-02  \n",
       "6352  ELIZABETH KRENTZMAN                False  2021-06-22  2024-07-02  \n",
       "6407  ELIZABETH KRENTZMAN                False  2021-06-22  2024-07-02  \n",
       "6462  ELIZABETH KRENTZMAN                False  2021-06-22  2024-07-02  \n",
       "6512  ELIZABETH KRENTZMAN                False  2021-06-22  2024-07-02  \n",
       "6546  ELIZABETH KRENTZMAN                False  2021-06-22  2024-07-02  \n",
       "6601  ELIZABETH KRENTZMAN                False  2021-06-22  2024-07-02  \n",
       "6656  ELIZABETH KRENTZMAN                False  2021-06-22  2024-07-02  \n",
       "6706  ELIZABETH KRENTZMAN                False  2021-06-22  2024-07-02  \n",
       "6740  ELIZABETH KRENTZMAN                False  2021-06-22  2024-07-02  \n",
       "6793  ELIZABETH KRENTZMAN                False  2021-06-22  2024-07-02  \n",
       "6848  ELIZABETH KRENTZMAN                False  2021-06-22  2024-07-02  \n",
       "6898  ELIZABETH KRENTZMAN                False  2021-06-22  2024-07-02  "
      ]
     },
     "execution_count": 329,
     "metadata": {},
     "output_type": "execute_result"
    }
   ],
   "source": [
    "df[df.director_name == 'ELIZABETH KRENTZMAN']"
   ]
  },
  {
   "cell_type": "code",
   "execution_count": 331,
   "id": "45e5f84e-ecf1-491c-b0bc-a2532de0bc52",
   "metadata": {},
   "outputs": [],
   "source": [
    "import sklearn.cluster"
   ]
  },
  {
   "cell_type": "code",
   "execution_count": 333,
   "id": "25ef7ed7-b7df-4649-81be-ba066ff9cc9b",
   "metadata": {},
   "outputs": [],
   "source": [
    "import sklearn.preprocessing\n",
    "robust_scaler = sklearn.preprocessing.RobustScaler()\n",
    "age_and_demographics_scaled = robust_scaler.fit_transform(people_df[['age', 'log_compensation', 'degree', 'eigen']])\n"
   ]
  },
  {
   "cell_type": "code",
   "execution_count": 335,
   "id": "e3f75a42-4e69-4356-aaa8-70b0b4b16fc8",
   "metadata": {},
   "outputs": [
    {
     "data": {
      "text/plain": [
       "cluster_id\n",
       " 1    3117\n",
       " 0     385\n",
       " 2     109\n",
       "-1      72\n",
       " 3      24\n",
       " 4      19\n",
       " 7       8\n",
       " 6       5\n",
       " 5       3\n",
       "Name: count, dtype: int64"
      ]
     },
     "execution_count": 335,
     "metadata": {},
     "output_type": "execute_result"
    }
   ],
   "source": [
    "dbscan = sklearn.cluster.DBSCAN(eps=0.4)\n",
    "people_df['cluster_id'] = dbscan.fit_predict(age_and_demographics_scaled)\n",
    "people_df.cluster_id.value_counts()"
   ]
  },
  {
   "cell_type": "code",
   "execution_count": 337,
   "id": "68e8717b-a2fa-4c7b-987b-95e5f0e0358f",
   "metadata": {},
   "outputs": [
    {
     "data": {
      "text/plain": [
       "<Axes: xlabel='age', ylabel='log_compensation'>"
      ]
     },
     "execution_count": 337,
     "metadata": {},
     "output_type": "execute_result"
    },
    {
     "data": {
      "image/png": "[encoded data removed]",
      "text/plain": [
       "<Figure size 640x480 with 2 Axes>"
      ]
     },
     "metadata": {},
     "output_type": "display_data"
    }
   ],
   "source": [
    "people_df.plot.scatter(x='age', y='log_compensation', c='cluster_id', cmap=\"rainbow\", s=4)"
   ]
  },
  {
   "cell_type": "code",
   "execution_count": 339,
   "id": "282b9b61-9d9b-45a2-9b32-676a4e6d2d91",
   "metadata": {},
   "outputs": [
    {
     "data": {
      "text/plain": [
       "eigen               0.102439\n",
       "degree              0.001585\n",
       "is_person               True\n",
       "age                       65\n",
       "compensation         3408245\n",
       "gender                female\n",
       "log_compensation    6.532531\n",
       "cluster_id                 2\n",
       "Name: ELIZABETH KRENTZMAN, dtype: object"
      ]
     },
     "execution_count": 339,
     "metadata": {},
     "output_type": "execute_result"
    }
   ],
   "source": [
    "people_df.loc['ELIZABETH KRENTZMAN']"
   ]
  },
  {
   "cell_type": "markdown",
   "id": "00765b8e-5a65-4f89-80cd-4aaf1ab1b419",
   "metadata": {},
   "source": [
    "Tests 3"
   ]
  },
  {
   "cell_type": "code",
   "execution_count": 342,
   "id": "f6769ae1-63c4-4a0f-b287-ed07fb2f87de",
   "metadata": {},
   "outputs": [],
   "source": [
    "# Convert start_date to datetime format\n",
    "df['start_date'] = pd.to_datetime(df['start_date'],errors = 'coerce')\n",
    "\n",
    "# Calculate the number of years of serice up to the current date\n",
    "df['tenure_years'] = (pd.to_datetime('today') - df['start_date']).dt.days/365.25"
   ]
  },
  {
   "cell_type": "markdown",
   "id": "085103d5-21b2-4f4f-908e-8ac6ddb380d7",
   "metadata": {},
   "source": [
    "Tests 4 & 5"
   ]
  },
  {
   "cell_type": "code",
   "execution_count": 345,
   "id": "491caa74-c47f-451b-90f8-1e148683622c",
   "metadata": {},
   "outputs": [
    {
     "name": "stdout",
     "output_type": "stream",
     "text": [
      "Index(['id', 'url', 'name', 'age', 'role', 'compensation', 'source_excerpt',\n",
      "       'created_at', 'gender'],\n",
      "      dtype='object')\n"
     ]
    }
   ],
   "source": [
    "# Import the necessary libraries\n",
    "import pandas as pd\n",
    "import matplotlib.pyplot as plt\n",
    "import seaborn as sns\n",
    "\n",
    "# Read the original director data\n",
    "directors_df = pd.read_csv('director-details.csv')\n",
    "directors_df = directors_df.dropna(subset = ['gender'])\n",
    "print(directors_df.columns)\n",
    "\n",
    "# Read the supplementary data set（From Kaggle: Indian Startup Funding)\n",
    "startup_df = pd.read_csv('startup_funding.csv', encoding='ISO-8859-1')"
   ]
  },
  {
   "cell_type": "code",
   "execution_count": 347,
   "id": "23fd408e-30ae-4499-bff5-a315b9f2f505",
   "metadata": {},
   "outputs": [
    {
     "data": {
      "image/png": "[encoded data removed]",
      "text/plain": [
       "<Figure size 600x400 with 1 Axes>"
      ]
     },
     "metadata": {},
     "output_type": "display_data"
    }
   ],
   "source": [
    "# Check the distribution of sensible gender\n",
    "gender_df = directors_df['gender'].value_counts().reset_index()\n",
    "gender_df.columns = ['gender','count']\n",
    "\n",
    "# Visualization：The number of directors vs The number of start-up companies\n",
    "plt.figure(figsize=(6, 4))\n",
    "sns.barplot(data = gender_df,x='gender', y='count',hue = 'gender', legend = False)\n",
    "plt.title('Gender distribution of directors')\n",
    "plt.xlabel('Gender')\n",
    "plt.ylabel('The number of directors')\n",
    "plt.tight_layout()\n",
    "plt.show()"
   ]
  },
  {
   "cell_type": "code",
   "execution_count": 349,
   "id": "ff5a4365-eb27-4ebe-8dd0-38a46e3f9e37",
   "metadata": {},
   "outputs": [
    {
     "data": {
      "image/png": "[encoded data removed]",
      "text/plain": [
       "<Figure size 800x500 with 1 Axes>"
      ]
     },
     "metadata": {},
     "output_type": "display_data"
    }
   ],
   "source": [
    "# The top 10 cities with the most Active Entrepreneurial Activities\n",
    "startup_df['City  Location'] = startup_df['City  Location'].astype(str).str.strip().str.title()\n",
    "\n",
    "top_cities_df = startup_df['City  Location'].value_counts().head(10).reset_index()\n",
    "top_cities_df.columns = ['City', 'StartupCount']\n",
    "\n",
    "# Draw the distribution map of cities for entrepreneurial activities\n",
    "plt.figure(figsize=(8, 5))\n",
    "sns.barplot(data=top_cities_df, x='StartupCount', y='City', hue='City', palette='coolwarm', dodge=False, legend=False)\n",
    "plt.title('The top 10 cities with the most Active Entrepreneurial Activities')\n",
    "plt.xlabel('The number of start-up companies')\n",
    "plt.ylabel('City')\n",
    "plt.tight_layout()\n",
    "plt.show()"
   ]
  },
  {
   "cell_type": "code",
   "execution_count": null,
   "id": "994d2511-f75b-4412-afe1-eff13b271cb0",
   "metadata": {},
   "outputs": [],
   "source": []
  },
  {
   "cell_type": "code",
   "execution_count": null,
   "id": "2b5653a7-3eb2-4220-9662-31b080113015",
   "metadata": {},
   "outputs": [],
   "source": []
  }
 ],
 "metadata": {
  "kernelspec": {
   "display_name": "Python [conda env:base] *",
   "language": "python",
   "name": "conda-base-py"
  },
  "language_info": {
   "codemirror_mode": {
    "name": "ipython",
    "version": 3
   },
   "file_extension": ".py",
   "mimetype": "text/x-python",
   "name": "python",
   "nbconvert_exporter": "python",
   "pygments_lexer": "ipython3",
   "version": "3.12.7"
  }
 },
 "nbformat": 4,
 "nbformat_minor": 5
}
