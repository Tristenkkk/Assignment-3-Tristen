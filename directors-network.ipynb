{
 "cells": [
  {
   "cell_type": "code",
   "execution_count": null,
   "id": "28799a07-af91-44d1-8784-47d0ad2250ce",
   "metadata": {},
   "outputs": [],
   "source": [
    "import pandas\n",
    "import math"
   ]
  },
  {
   "cell_type": "code",
   "execution_count": null,
   "id": "59b4f077-bb53-4a6d-b193-fc3fd107ec77",
   "metadata": {},
   "outputs": [],
   "source": [
    "df = pandas.read_csv('company_directorships.csv')\n",
    "df.software_background = df.software_background.map(lambda x: x == 't')\n",
    "df.sample(5)"
   ]
  },
  {
   "cell_type": "code",
   "execution_count": null,
   "id": "85988c0b-40e6-48fc-95df-e39f0432adb4",
   "metadata": {},
   "outputs": [],
   "source": [
    "compensation_and_demographics_raw = pandas.read_csv('director-details.csv')\n",
    "compensation_and_demographics_raw['NAME'] = compensation_and_demographics_raw.name.str.upper()\n",
    "\n",
    "def most_common(series):\n",
    "    mode_values = series.mode()\n",
    "    if len(mode_values) > 0:\n",
    "        return mode_values[0]\n",
    "    return None\n",
    "    \n",
    "compensation_and_demographics = pandas.DataFrame({\n",
    "    'age': compensation_and_demographics_raw.groupby('NAME').age.max(),\n",
    "    'compensation': compensation_and_demographics_raw.groupby('NAME').compensation.sum(),\n",
    "    'gender': compensation_and_demographics_raw.groupby('NAME').gender.agg(most_common)\n",
    "})\n",
    "compensation_and_demographics['log_compensation'] = (1 + compensation_and_demographics.compensation).map(math.log10)\n",
    "compensation_and_demographics"
   ]
  },
  {
   "cell_type": "code",
   "execution_count": null,
   "id": "f29c9d82-a402-491a-9cd9-0a3a5db8983e",
   "metadata": {},
   "outputs": [],
   "source": [
    "compensation_and_demographics.gender.value_counts(dropna=False)"
   ]
  },
  {
   "cell_type": "code",
   "execution_count": null,
   "id": "1d74aaa8-573a-4693-9bb3-7a9ef40299cf",
   "metadata": {},
   "outputs": [],
   "source": [
    "directorship_counts = df.groupby('director_name').company_name.nunique().sort_values()\n",
    "directorship_counts"
   ]
  },
  {
   "cell_type": "code",
   "execution_count": null,
   "id": "44fd1247-353f-401d-be96-67167fcff5f8",
   "metadata": {},
   "outputs": [],
   "source": [
    "directorship_counts.value_counts().sort_index().map(math.log10).plot()"
   ]
  },
  {
   "cell_type": "code",
   "execution_count": null,
   "id": "b5e3f6e1-b9bf-4ad5-8c17-396bc1ca1cbd",
   "metadata": {},
   "outputs": [],
   "source": [
    "import networkx\n",
    "import networkx.algorithms\n",
    "graph = networkx.Graph()"
   ]
  },
  {
   "cell_type": "code",
   "execution_count": null,
   "id": "4b18759f-11e7-4097-a5ce-2f31efe74257",
   "metadata": {},
   "outputs": [],
   "source": [
    "people = []\n",
    "companies = []\n",
    "for company_name, director_name in zip(df.company_name, df.director_name):\n",
    "    graph.add_edge(company_name, director_name)\n",
    "    people.append(director_name)\n",
    "    companies.append(company_name)"
   ]
  },
  {
   "cell_type": "code",
   "execution_count": null,
   "id": "ba07222c-8f1d-44fe-a22e-2b518d37606c",
   "metadata": {},
   "outputs": [],
   "source": [
    "biggest_connected_graph = graph.subgraph(list(networkx.connected_components(graph))[0])"
   ]
  },
  {
   "cell_type": "code",
   "execution_count": null,
   "id": "b6ac9a66-827b-49bf-83c9-9bcedec73a09",
   "metadata": {},
   "outputs": [],
   "source": [
    "%%time\n",
    "centrality = pandas.DataFrame({\n",
    "    'eigen': pandas.Series(networkx.eigenvector_centrality(biggest_connected_graph)),\n",
    "    'degree': pandas.Series(networkx.algorithms.degree_centrality(biggest_connected_graph)),\n",
    "})\n",
    "centrality['is_person'] = centrality.index.map(lambda x: x in people)"
   ]
  },
  {
   "cell_type": "code",
   "execution_count": null,
   "id": "9e374096-f944-45a9-99b1-911fdeadd4c4",
   "metadata": {},
   "outputs": [],
   "source": [
    "people_df = centrality[centrality.is_person].merge(compensation_and_demographics, left_index=True, right_index=True)"
   ]
  },
  {
   "cell_type": "code",
   "execution_count": null,
   "id": "2ee556f1-50a3-4c7c-a2da-3e6985a9d1a3",
   "metadata": {},
   "outputs": [],
   "source": [
    "people_df.sort_values('eigen', ascending=False)"
   ]
  },
  {
   "cell_type": "code",
   "execution_count": null,
   "id": "f0937be4-f460-4959-81a5-b7737898d905",
   "metadata": {},
   "outputs": [],
   "source": [
    "df[df.director_name == 'ELIZABETH KRENTZMAN']"
   ]
  },
  {
   "cell_type": "code",
   "execution_count": null,
   "id": "45e5f84e-ecf1-491c-b0bc-a2532de0bc52",
   "metadata": {},
   "outputs": [],
   "source": [
    "import sklearn.cluster"
   ]
  },
  {
   "cell_type": "code",
   "execution_count": null,
   "id": "25ef7ed7-b7df-4649-81be-ba066ff9cc9b",
   "metadata": {},
   "outputs": [],
   "source": [
    "import sklearn.preprocessing\n",
    "robust_scaler = sklearn.preprocessing.RobustScaler()\n",
    "age_and_demographics_scaled = robust_scaler.fit_transform(people_df[['age', 'log_compensation', 'degree', 'eigen']])\n"
   ]
  },
  {
   "cell_type": "code",
   "execution_count": null,
   "id": "e3f75a42-4e69-4356-aaa8-70b0b4b16fc8",
   "metadata": {},
   "outputs": [],
   "source": [
    "dbscan = sklearn.cluster.DBSCAN(eps=0.4)\n",
    "people_df['cluster_id'] = dbscan.fit_predict(age_and_demographics_scaled)\n",
    "people_df.cluster_id.value_counts()"
   ]
  },
  {
   "cell_type": "code",
   "execution_count": null,
   "id": "68e8717b-a2fa-4c7b-987b-95e5f0e0358f",
   "metadata": {},
   "outputs": [],
   "source": [
    "people_df.plot.scatter(x='age', y='log_compensation', c='cluster_id', cmap=\"rainbow\", s=4)"
   ]
  },
  {
   "cell_type": "code",
   "execution_count": null,
   "id": "282b9b61-9d9b-45a2-9b32-676a4e6d2d91",
   "metadata": {},
   "outputs": [],
   "source": [
    "people_df.loc['ELIZABETH KRENTZMAN']"
   ]
  },
  {
   "cell_type": "code",
   "execution_count": null,
   "id": "115d780c-c8dd-496d-acae-5ad88648b73d",
   "metadata": {},
   "outputs": [],
   "source": []
  },
  {
   "cell_type": "code",
   "execution_count": null,
   "id": "52bf560e-de0e-4738-bb1f-818b9cc7264d",
   "metadata": {},
   "outputs": [],
   "source": []
  }
 ],
 "metadata": {
  "kernelspec": {
   "display_name": "Python 3 (ipykernel)",
   "language": "python",
   "name": "python3"
  },
  "language_info": {
   "codemirror_mode": {
    "name": "ipython",
    "version": 3
   },
   "file_extension": ".py",
   "mimetype": "text/x-python",
   "name": "python",
   "nbconvert_exporter": "python",
   "pygments_lexer": "ipython3",
   "version": "3.11.6"
  }
 },
 "nbformat": 4,
 "nbformat_minor": 5
}
